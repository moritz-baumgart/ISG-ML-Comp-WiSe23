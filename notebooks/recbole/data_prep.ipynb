{
 "cells": [
  {
   "cell_type": "markdown",
   "metadata": {},
   "source": [
    "RecBole needs a special file format called AtomicFiles. This notebook loads our normal CSV file and converts it to that format.\n",
    "\n",
    "The new file is saved in CWD, RecBole has to be configured to expect it there."
   ]
  },
  {
   "cell_type": "code",
   "execution_count": 10,
   "metadata": {},
   "outputs": [],
   "source": [
    "from mlcomp.data.load import load_regression_train"
   ]
  },
  {
   "cell_type": "code",
   "execution_count": 11,
   "metadata": {},
   "outputs": [],
   "source": [
    "df = load_regression_train()\n",
    "df = df.rename(\n",
    "    columns={\n",
    "        \"item\": \"item:token\",\n",
    "        \"user\": \"user:token\",\n",
    "        \"timestamp\": \"timestamp:float\",\n",
    "        \"rating\": \"rating:float\",\n",
    "    }\n",
    ")\n",
    "\n",
    "df.to_csv(\"./datasets/reg-train.inter\", sep=\"\\t\", index=False)"
   ]
  }
 ],
 "metadata": {
  "kernelspec": {
   "display_name": "recbole",
   "language": "python",
   "name": "python3"
  },
  "language_info": {
   "codemirror_mode": {
    "name": "ipython",
    "version": 3
   },
   "file_extension": ".py",
   "mimetype": "text/x-python",
   "name": "python",
   "nbconvert_exporter": "python",
   "pygments_lexer": "ipython3",
   "version": "3.10.13"
  }
 },
 "nbformat": 4,
 "nbformat_minor": 2
}
