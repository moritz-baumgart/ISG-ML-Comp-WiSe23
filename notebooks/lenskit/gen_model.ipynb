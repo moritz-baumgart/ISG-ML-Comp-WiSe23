{
 "cells": [
  {
   "cell_type": "code",
   "execution_count": 33,
   "id": "62cc2449-fadf-4344-876e-be3ea3bc8848",
   "metadata": {},
   "outputs": [],
   "source": [
    "from lenskit.algorithms import Recommender, als\n",
    "from lenskit import batch, topn, util, crossfold as xf\n",
    "import matplotlib.pyplot as plt\n",
    "from matplotlib.dates import DateFormatter\n",
    "import pandas as pd\n",
    "import joblib\n",
    "\n",
    "from mlcomp.data.load import load_regression_train"
   ]
  },
  {
   "cell_type": "code",
   "execution_count": 34,
   "id": "af5ebb6c",
   "metadata": {},
   "outputs": [
    {
     "data": {
      "text/plain": [
       "['test-gt16-s15.joblib']"
      ]
     },
     "execution_count": 34,
     "metadata": {},
     "output_type": "execute_result"
    }
   ],
   "source": [
    "df = load_regression_train()\n",
    "\n",
    "# remove everything before 01-01-2016\n",
    "df = df.loc[df['timestamp'] > 1451602800]\n",
    "#df = df[:10000]\n",
    "\n",
    "\n",
    "ttpair_gen = xf.partition_users(df, 2, xf.SampleFrac(0.15))\n",
    "ttpair = ttpair_gen.__next__()\n",
    "\n",
    "train = ttpair.train\n",
    "test = ttpair.test\n",
    "\n",
    "joblib.dump(train, 'train-gt16-s85.joblib')\n",
    "joblib.dump(test, 'test-gt16-s15.joblib')"
   ]
  },
  {
   "cell_type": "code",
   "execution_count": 35,
   "id": "d32d7213",
   "metadata": {},
   "outputs": [
    {
     "name": "stderr",
     "output_type": "stream",
     "text": [
      "could not load LIBBLAS: Could not find module 'libblas' (or one of its dependencies). Try using the full path with constructor syntax.\n"
     ]
    },
    {
     "data": {
      "text/plain": [
       "['model-gt16-s85.joblib']"
      ]
     },
     "execution_count": 35,
     "metadata": {},
     "output_type": "execute_result"
    }
   ],
   "source": [
    "bmf = als.BiasedMF(5)\n",
    "\n",
    "bmf.fit(train)\n",
    "\n",
    "joblib.dump(bmf, 'model-gt16-s85.joblib')"
   ]
  }
 ],
 "metadata": {
  "kernelspec": {
   "display_name": "Python 3 (ipykernel)",
   "language": "python",
   "name": "python3"
  },
  "language_info": {
   "codemirror_mode": {
    "name": "ipython",
    "version": 3
   },
   "file_extension": ".py",
   "mimetype": "text/x-python",
   "name": "python",
   "nbconvert_exporter": "python",
   "pygments_lexer": "ipython3",
   "version": "3.10.8"
  }
 },
 "nbformat": 4,
 "nbformat_minor": 5
}
