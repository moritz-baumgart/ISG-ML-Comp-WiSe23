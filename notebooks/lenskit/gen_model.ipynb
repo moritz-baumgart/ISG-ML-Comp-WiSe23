{
 "cells": [
  {
   "cell_type": "code",
   "execution_count": 39,
   "id": "62cc2449-fadf-4344-876e-be3ea3bc8848",
   "metadata": {},
   "outputs": [],
   "source": [
    "from lenskit.algorithms import Recommender, als, funksvd, item_knn, user_knn\n",
    "from lenskit import batch, topn, util, crossfold as xf\n",
    "import matplotlib.pyplot as plt\n",
    "from lenskit.metrics.predict import rmse\n",
    "from matplotlib.dates import DateFormatter\n",
    "import pandas as pd\n",
    "import joblib\n",
    "\n",
    "from mlcomp.data.load import load_regression_train"
   ]
  },
  {
   "cell_type": "code",
   "execution_count": null,
   "id": "af5ebb6c",
   "metadata": {},
   "outputs": [],
   "source": [
    "df = load_regression_train()\n",
    "\n",
    "print(df)\n",
    "# remove everything before 01-01-2014\n",
    "#df = df.loc[df['timestamp'] > 1388530800 * 1000]\n",
    "# remove everything before 01-01-2018\n",
    "#df = df.loc[df['timestamp'] > 1514764800000]\n",
    "# remove everything before 01-01-2011\n",
    "df = df.loc[df['timestamp'] > 1262300400 * 1000]\n",
    "\n",
    "\n",
    "print(df)\n",
    "#df = df[:10000]\n",
    "\n"
   ]
  },
  {
   "cell_type": "code",
   "execution_count": null,
   "id": "7dd70c94",
   "metadata": {},
   "outputs": [],
   "source": [
    "\n",
    "\n",
    "ttpair_gen = xf.partition_users(df, 2, xf.SampleFrac(0.15))\n",
    "ttpair = ttpair_gen.__next__()\n",
    "\n",
    "train = ttpair.train\n",
    "test = ttpair.test\n",
    "\n",
    "X_val = test.drop(columns=['rating'])\n",
    "y_val = test['rating']\n",
    "\n",
    "#joblib.dump(train, 'yee_train.joblib')\n",
    "#joblib.dump(test, 'yee_test.joblib')"
   ]
  },
  {
   "cell_type": "code",
   "execution_count": 41,
   "id": "d32d7213",
   "metadata": {},
   "outputs": [
    {
     "data": {
      "text/plain": [
       "['models/M8-bmf.joblib']"
      ]
     },
     "execution_count": 41,
     "metadata": {},
     "output_type": "execute_result"
    }
   ],
   "source": [
    "model = als.BiasedMF(100, iterations=200)\n",
    "model.fit(df)\n",
    "\n",
    "\n",
    "joblib.dump(model, \"models/M8-bmf.joblib\")"
   ]
  },
  {
   "cell_type": "code",
   "execution_count": null,
   "id": "1daf3000",
   "metadata": {},
   "outputs": [],
   "source": [
    "pred = batch.predict(model, X_val)\n"
   ]
  },
  {
   "cell_type": "code",
   "execution_count": null,
   "id": "0f5054c3",
   "metadata": {},
   "outputs": [],
   "source": [
    "\n",
    "# lenskit messed up the index but keeps the order, so we can fix it like this:\n",
    "pred.index = X_val.index\n",
    "\n",
    "print(pred)\n",
    "\n",
    "rmse(pred['prediction'], y_val) "
   ]
  },
  {
   "cell_type": "markdown",
   "id": "9f911691",
   "metadata": {},
   "source": [
    "### Model Doc:\n",
    "\n",
    "#### models/M1-bmf.joblib:\n",
    "- Drop everything before 01-01-2014\n",
    "- BiasedMF(50)\n",
    "- 85/15 TTS\n",
    "- Val RMSE: 0.8918094342855158\n",
    "- Kaggle: 1.17477\n",
    "\n",
    "#### models/M2-fsvd.joblib:\n",
    "- Drop everything before 01-01-2014\n",
    "- FunkSVD(50)\n",
    "- 85/15 TTS\n",
    "- Val RMSE: 0.8955200550427233\n",
    "- Kaggle: 1.19404\n",
    "\n",
    "Further optimization was done inside WSL, see the WSL Repo for more.\n",
    "\n",
    "#### models/M3-bmf.joblib:\n",
    "- Drop everything before 01-01-2014\n",
    "- BiasedMF using Config from Run 1 (see WSL)\n",
    "- 85/15 TTS\n",
    "- Val RMSE: 0.893102549930063\n",
    "- Kaggle: 1.17263\n",
    "\n",
    "#### models/M4-itemknn.joblib:\n",
    "- error\n",
    "\n",
    "\n",
    "#### models/M5-userknn.joblib:\n",
    "- !!! 38952/39194 NaN !!!\n",
    "\n",
    "- Drop everything before 01-01-2014\n",
    "- ItemItem(nnbrs=50, feedback=\"explicit\")\n",
    "- 85/15 TTS\n",
    "- Val RMSE: 1.147419143612323\n",
    "- Kaggle: \n",
    "\n",
    "#### models/M6-bmf.joblib:\n",
    "- Drop everything before 01-01-2014\n",
    "- BiasedMF(200)\n",
    "- 85/15 TTS\n",
    "- Val RMSE: 0.8882260413979319\n",
    "- Kaggle: 1.17052\n",
    "\n",
    "\n",
    "#### models/M7-bmf.joblib:\n",
    "- Drop everything before 01-01-2011\n",
    "- BiasedMF(200)\n",
    "- - 85/15 TTS\n",
    "- Val RMSE: 0.8761605756905748\n",
    "- Kaggle: 1.17112\n",
    "- -all suffix: Train on all data instead of TTS; on kaggle: 1.17094\n",
    "\n",
    "#### models/M8-bmf.joblib:\n",
    "- Drop everything before 01-01-2011\n",
    "- BiasedMF(100, iteration=100)\n",
    "- Training on all the data\n",
    "- Kaggle: \n"
   ]
  }
 ],
 "metadata": {
  "kernelspec": {
   "display_name": "Python 3 (ipykernel)",
   "language": "python",
   "name": "python3"
  },
  "language_info": {
   "codemirror_mode": {
    "name": "ipython",
    "version": 3
   },
   "file_extension": ".py",
   "mimetype": "text/x-python",
   "name": "python",
   "nbconvert_exporter": "python",
   "pygments_lexer": "ipython3",
   "version": "3.10.13"
  }
 },
 "nbformat": 4,
 "nbformat_minor": 5
}
