{
 "cells": [
  {
   "cell_type": "code",
   "execution_count": 1,
   "metadata": {},
   "outputs": [],
   "source": [
    "from lenskit.algorithms import als\n",
    "from lenskit import batch, crossfold as xf\n",
    "from lenskit.metrics.predict import rmse\n",
    "import pandas as pd\n",
    "import joblib\n",
    "\n",
    "from mlcomp.data.load import load_regression_train"
   ]
  },
  {
   "cell_type": "code",
   "execution_count": 2,
   "metadata": {},
   "outputs": [],
   "source": [
    "df = load_regression_train()\n",
    "# remove everything before 01-01-2016\n",
    "#df = df.loc[df['timestamp'] > 1451602800]\n",
    "#df = df[:10000]\n",
    "\n",
    "windows = pd.DataFrame(columns=['start', 'stop'])\n",
    "\n",
    "current_start = df['timestamp'].min()\n",
    "window_size = 63072000 * 1000 # 2 years\n",
    "window_offset = 47304000 * 1000 # 1 and 1/2 years\n",
    "counter = 0\n",
    "while current_start < df['timestamp'].max():\n",
    "    windows.loc[counter] = [current_start, current_start + window_size]\n",
    "    current_start += window_offset\n",
    "    counter += 1\n"
   ]
  },
  {
   "cell_type": "code",
   "execution_count": 3,
   "metadata": {},
   "outputs": [
    {
     "name": "stderr",
     "output_type": "stream",
     "text": [
      "could not load LIBBLAS: Could not find module 'libblas' (or one of its dependencies). Try using the full path with constructor syntax.\n"
     ]
    },
    {
     "name": "stdout",
     "output_type": "stream",
     "text": [
      "Skipped window 0\n",
      "Done with window 1\n",
      "Done with window 2\n",
      "Done with window 3\n",
      "Done with window 4\n",
      "Done with window 5\n",
      "Done with window 6\n",
      "Done with window 7\n",
      "Done with window 8\n",
      "Done with window 9\n"
     ]
    },
    {
     "data": {
      "text/plain": [
       "['time_window_result.joblib']"
      ]
     },
     "execution_count": 3,
     "metadata": {},
     "output_type": "execute_result"
    }
   ],
   "source": [
    "\n",
    "results = []\n",
    "\n",
    "for index, win in windows.iterrows():\n",
    "\n",
    "    start_t = win['start']\n",
    "    stop_t = win['stop']\n",
    "\n",
    "    data_in_window = df.loc[(df['timestamp'] > start_t) & (df['timestamp'] < stop_t)]\n",
    "\n",
    "    ttpair_gen = xf.partition_users(data_in_window, 2, xf.SampleFrac(0.15))\n",
    "    ttpair = ttpair_gen.__next__()\n",
    "\n",
    "    train = ttpair.train\n",
    "    test = ttpair.test\n",
    "\n",
    "    # the partition method sometimes produces an empty test set if we are unlucky,\n",
    "    # so we just skip if thats the case:\n",
    "    if len(test) == 0:\n",
    "        print(f'Skipped window {index}')\n",
    "        continue\n",
    "\n",
    "    bmf = als.BiasedMF(50)\n",
    "\n",
    "    bmf.fit(test)\n",
    "\n",
    "    X_val = test.drop(columns=['rating'])\n",
    "    y_val = test['rating']\n",
    "\n",
    "    pred = batch.predict(bmf, X_val)\n",
    "\n",
    "    # lenskit messed up the index but keeps the order, so we can fix it like this:\n",
    "    pred.index = X_val.index\n",
    "    error = rmse(pred['prediction'], y_val)\n",
    "\n",
    "    results.append((start_t, stop_t, bmf, error))\n",
    "\n",
    "    print(f'Done with window {index}')\n",
    "\n",
    "joblib.dump(results, 'time_window_result.joblib')"
   ]
  },
  {
   "cell_type": "markdown",
   "metadata": {},
   "source": [
    "## Results:\n",
    "\n"
   ]
  }
 ],
 "metadata": {
  "kernelspec": {
   "display_name": "base",
   "language": "python",
   "name": "python3"
  },
  "language_info": {
   "codemirror_mode": {
    "name": "ipython",
    "version": 3
   },
   "file_extension": ".py",
   "mimetype": "text/x-python",
   "name": "python",
   "nbconvert_exporter": "python",
   "pygments_lexer": "ipython3",
   "version": "3.10.8"
  }
 },
 "nbformat": 4,
 "nbformat_minor": 2
}
