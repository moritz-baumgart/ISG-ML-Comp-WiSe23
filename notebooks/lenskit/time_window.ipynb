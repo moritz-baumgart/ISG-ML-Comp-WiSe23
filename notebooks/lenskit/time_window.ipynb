{
 "cells": [
  {
   "cell_type": "code",
   "execution_count": 1,
   "metadata": {},
   "outputs": [],
   "source": [
    "from lenskit.algorithms import als\n",
    "from lenskit import batch, crossfold as xf\n",
    "from lenskit.metrics.predict import rmse\n",
    "import pandas as pd\n",
    "import joblib\n",
    "\n",
    "from mlcomp.data.load import load_regression_train"
   ]
  },
  {
   "cell_type": "code",
   "execution_count": 2,
   "metadata": {},
   "outputs": [],
   "source": [
    "df = load_regression_train()\n",
    "# remove everything before 01-01-2016\n",
    "#df = df.loc[df['timestamp'] > 1451602800]\n",
    "#df = df[:10000]\n",
    "\n",
    "windows = pd.DataFrame(columns=['start', 'stop'])\n",
    "\n",
    "current_start = df['timestamp'].min()\n",
    "window_size = 63072000 * 1000 * 2 # 4 years\n",
    "window_offset = 15768000 * 1000 # 1/2 year\n",
    "counter = 0\n",
    "while current_start < df['timestamp'].max():\n",
    "    windows.loc[counter] = [current_start, current_start + window_size]\n",
    "    current_start += window_offset\n",
    "    counter += 1"
   ]
  },
  {
   "cell_type": "code",
   "execution_count": null,
   "metadata": {},
   "outputs": [],
   "source": [
    "ttpair_gen = xf.partition_users(df, 2, xf.SampleFrac(0.15))\n",
    "ttpair = ttpair_gen.__next__()\n",
    "\n",
    "train = ttpair.train\n",
    "test = ttpair.test\n",
    "\n",
    "X_val = test.drop(columns=[\"rating\"])\n",
    "y_val = test[\"rating\"]\n",
    "\n",
    "results = []\n",
    "\n",
    "for index, win in windows.iterrows():\n",
    "    start_t = win[\"start\"]\n",
    "    stop_t = win[\"stop\"]\n",
    "\n",
    "    data_in_window = train.loc[\n",
    "        (train[\"timestamp\"] > start_t) & (train[\"timestamp\"] < stop_t)\n",
    "    ]\n",
    "\n",
    "    bmf = als.BiasedMF(50)\n",
    "\n",
    "    bmf.fit(data_in_window)\n",
    "\n",
    "    # for some reason this sometimes throws an exception, so we just catch that and skip this window\n",
    "    try:\n",
    "        pred = batch.predict(bmf, X_val)\n",
    "    except Exception:\n",
    "        print(f\"Skipping window {index}\")\n",
    "        continue\n",
    "\n",
    "    # lenskit messed up the index but keeps the order, so we can fix it like this:\n",
    "    pred.index = X_val.index\n",
    "    error = rmse(pred[\"prediction\"], y_val)\n",
    "\n",
    "    results.append((start_t, stop_t, bmf, error))\n",
    "\n",
    "    print(f\"Done with window {index}\")\n",
    "\n",
    "joblib.dump(results, \"time_window_result.joblib\")"
   ]
  },
  {
   "cell_type": "code",
   "execution_count": null,
   "metadata": {},
   "outputs": [
    {
     "data": {
      "text/plain": [
       "[(1182960009677,\n",
       "  1309104009677,\n",
       "  <lenskit.algorithms.als.BiasedMF at 0x2bfa728b400>,\n",
       "  0.895996211572217),\n",
       " (1198728009677,\n",
       "  1324872009677,\n",
       "  <lenskit.algorithms.als.BiasedMF at 0x2bfcbfeb970>,\n",
       "  0.842229946727006),\n",
       " (1214496009677,\n",
       "  1340640009677,\n",
       "  <lenskit.algorithms.als.BiasedMF at 0x2bfc9ce2980>,\n",
       "  0.9479959222129786),\n",
       " (1451016009677,\n",
       "  1577160009677,\n",
       "  <lenskit.algorithms.als.BiasedMF at 0x2bfa6da8f70>,\n",
       "  0.8956210391318301),\n",
       " (1466784009677,\n",
       "  1592928009677,\n",
       "  <lenskit.algorithms.als.BiasedMF at 0x2bfa6e7c760>,\n",
       "  0.8930837773198265),\n",
       " (1482552009677,\n",
       "  1608696009677,\n",
       "  <lenskit.algorithms.als.BiasedMF at 0x2bfc9ccff70>,\n",
       "  0.8927663527496429),\n",
       " (1498320009677,\n",
       "  1624464009677,\n",
       "  <lenskit.algorithms.als.BiasedMF at 0x2bfa20e3a60>,\n",
       "  0.8927172014899835),\n",
       " (1514088009677,\n",
       "  1640232009677,\n",
       "  <lenskit.algorithms.als.BiasedMF at 0x2bfc67f9660>,\n",
       "  0.8971136833153208),\n",
       " (1624464009677,\n",
       "  1750608009677,\n",
       "  <lenskit.algorithms.als.BiasedMF at 0x2bfcbfe9270>,\n",
       "  0.6234340810847926)]"
      ]
     },
     "execution_count": 4,
     "metadata": {},
     "output_type": "execute_result"
    }
   ],
   "source": [
    "results"
   ]
  },
  {
   "cell_type": "markdown",
   "metadata": {},
   "source": [
    "## Results:\n",
    "\n",
    "Aborted due to some error:\n",
    "```Python\n",
    "[(1182960009677,\n",
    "  1246032009677,\n",
    "  <lenskit.algorithms.als.BiasedMF at 0x29cfbfff190>,\n",
    "  nan),\n",
    " (1230264009677,\n",
    "  1293336009677,\n",
    "  <lenskit.algorithms.als.BiasedMF at 0x29c8f458c40>,\n",
    "  0.7321834671571964),\n",
    " (1277568009677,\n",
    "  1340640009677,\n",
    "  <lenskit.algorithms.als.BiasedMF at 0x29ca50313f0>,\n",
    "  0.8816875338682053)]\n",
    "```\n",
    "\n",
    "\n",
    "### R1:\n",
    "- File: time_window_res/R1.joblib\n",
    "- Error in batch predict that I did not yet solve\n",
    "- Only did window 0 to 4\n",
    "- Window size: 2 years\n",
    "- Offset: 1.5 years\n",
    "\n",
    "### R2\n",
    "- File: time_window_res/R2.joblib\n",
    "- Error still persists, therefore only window 0 - 2, 17 - 21 and 28\n",
    "- Window size: 4 years\n",
    "- Offset: 0.6 years\n"
   ]
  }
 ],
 "metadata": {
  "kernelspec": {
   "display_name": "base",
   "language": "python",
   "name": "python3"
  },
  "language_info": {
   "codemirror_mode": {
    "name": "ipython",
    "version": 3
   },
   "file_extension": ".py",
   "mimetype": "text/x-python",
   "name": "python",
   "nbconvert_exporter": "python",
   "pygments_lexer": "ipython3",
   "version": "3.10.13"
  }
 },
 "nbformat": 4,
 "nbformat_minor": 2
}
