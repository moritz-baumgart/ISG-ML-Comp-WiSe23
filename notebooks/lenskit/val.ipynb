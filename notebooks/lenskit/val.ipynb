{
 "cells": [
  {
   "cell_type": "code",
   "execution_count": 10,
   "metadata": {},
   "outputs": [
    {
     "data": {
      "text/plain": [
       "0.9630560905111525"
      ]
     },
     "execution_count": 10,
     "metadata": {},
     "output_type": "execute_result"
    }
   ],
   "source": [
    "from lenskit.algorithms import als\n",
    "from lenskit import batch\n",
    "from lenskit.metrics.predict import rmse\n",
    "import joblib\n",
    "import pandas as pd\n",
    "\n",
    "\n",
    "df: pd.DataFrame = joblib.load('test-gt16-s15.joblib').drop_duplicates()\n",
    "\n",
    "X_val = df.drop(columns=['rating'])\n",
    "y_val = df['rating']\n",
    "\n",
    "model: als.BiasedMF = joblib.load('model-gt16-s85.joblib')\n",
    "pred = batch.predict(model, X_val)\n",
    "\n",
    "# lenskit messed up the index but keeps the order, so we can fix it like this:\n",
    "pred.index = X_val.index\n",
    "\n",
    "rmse(pred['prediction'], y_val) # 0.9773730468960676"
   ]
  },
  {
   "cell_type": "markdown",
   "metadata": {},
   "source": [
    "#### Validation results:\n",
    "##### BiasedMF:\n",
    "- 80/20 split with data after 2018: RMSE = 0.9773730468960676\n",
    "- 85/15 split with data after 2016: RMSE = 0.9630560905111525"
   ]
  }
 ],
 "metadata": {
  "kernelspec": {
   "display_name": "base",
   "language": "python",
   "name": "python3"
  },
  "language_info": {
   "codemirror_mode": {
    "name": "ipython",
    "version": 3
   },
   "file_extension": ".py",
   "mimetype": "text/x-python",
   "name": "python",
   "nbconvert_exporter": "python",
   "pygments_lexer": "ipython3",
   "version": "3.10.8"
  }
 },
 "nbformat": 4,
 "nbformat_minor": 2
}
