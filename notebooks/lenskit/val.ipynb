{
 "cells": [
  {
   "cell_type": "code",
   "execution_count": 3,
   "metadata": {},
   "outputs": [
    {
     "name": "stdout",
     "output_type": "stream",
     "text": [
      "          user   item  prediction\n",
      "306837      49      0    4.861951\n",
      "342900      54      0    4.985206\n",
      "787208      56      0    5.100354\n",
      "669685      67   5780    4.276138\n",
      "292773      67   7914    4.951818\n",
      "...        ...    ...         ...\n",
      "57579   274519  11080    3.878749\n",
      "269745  275155  11090    3.798692\n",
      "92100   276316  11130    4.178595\n",
      "782010  279856  11153    4.682449\n",
      "703689  287678  11233    3.886946\n",
      "\n",
      "[38920 rows x 3 columns]\n"
     ]
    },
    {
     "data": {
      "text/plain": [
       "0.9560689080895531"
      ]
     },
     "execution_count": 3,
     "metadata": {},
     "output_type": "execute_result"
    }
   ],
   "source": [
    "from lenskit.algorithms import als\n",
    "from lenskit import batch\n",
    "from lenskit.metrics.predict import rmse\n",
    "import joblib\n",
    "import pandas as pd\n",
    "\n",
    "\n",
    "df: pd.DataFrame = joblib.load('test_data.joblib').drop_duplicates()\n",
    "\n",
    "X_val = df.drop(columns=['rating'])\n",
    "y_val = df['rating']\n",
    "\n",
    "model: als.BiasedMF = joblib.load('yee_model.joblib')\n",
    "pred = batch.predict(model, X_val)\n",
    "\n",
    "# lenskit messed up the index but keeps the order, so we can fix it like this:\n",
    "pred.index = X_val.index\n",
    "\n",
    "print(pred)\n",
    "\n",
    "rmse(pred['prediction'], y_val) "
   ]
  },
  {
   "cell_type": "markdown",
   "metadata": {},
   "source": [
    "#### Validation results:\n",
    "##### BiasedMF:\n",
    "\n",
    "I am actually not 100% certain that those results were correct:\n",
    "- ~~80/20 split with data after 2018: RMSE = 0.9773730468960676~~\n",
    "- ~~85/15 split with data after 2016: RMSE = 0.9630560905111525~~\n",
    "\n",
    "Those definitely are:\n",
    "- 85/15 split with data after 2016:#\n",
    "  - RMSE = 0.9656301465557162\n",
    "  - Kaggle = 1.23006\n",
    "- 85/15 split with data after 2018:\n",
    "  - RMSE = 0.9555878694303016\n",
    "  - Kaggle = 1.2247"
   ]
  }
 ],
 "metadata": {
  "kernelspec": {
   "display_name": "base",
   "language": "python",
   "name": "python3"
  },
  "language_info": {
   "codemirror_mode": {
    "name": "ipython",
    "version": 3
   },
   "file_extension": ".py",
   "mimetype": "text/x-python",
   "name": "python",
   "nbconvert_exporter": "python",
   "pygments_lexer": "ipython3",
   "version": "3.10.13"
  }
 },
 "nbformat": 4,
 "nbformat_minor": 2
}
