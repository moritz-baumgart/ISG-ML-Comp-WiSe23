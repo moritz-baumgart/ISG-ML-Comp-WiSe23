{
 "cells": [
  {
   "cell_type": "code",
   "execution_count": 11,
   "metadata": {},
   "outputs": [],
   "source": [
    "from lenskit.algorithms import als\n",
    "from lenskit import batch\n",
    "import joblib\n",
    "import pandas as pd\n",
    "\n",
    "from mlcomp.data.load import load_regression_test, load_regression_train\n"
   ]
  },
  {
   "cell_type": "code",
   "execution_count": null,
   "metadata": {},
   "outputs": [],
   "source": [
    "\n",
    "results = joblib.load('time_window_res/R2.joblib')\n",
    "results # index 8 has lowest val RMSE, use it to predict"
   ]
  },
  {
   "cell_type": "code",
   "execution_count": 2,
   "metadata": {},
   "outputs": [],
   "source": [
    "df = load_regression_test()\n",
    "\n",
    "\n",
    "def predict_using_model_nr(model_nr: int):\n",
    "    model: als.BiasedMF = results[model_nr][2]\n",
    "    pred = batch.predict(model, df)\n",
    "\n",
    "    # lenskit messed up the index but keeps the order, so we can fix it like this:\n",
    "    pred.index = df.index\n",
    "    return pred"
   ]
  },
  {
   "cell_type": "code",
   "execution_count": 3,
   "metadata": {},
   "outputs": [],
   "source": [
    "pred_model_1 = predict_using_model_nr(1)"
   ]
  },
  {
   "cell_type": "code",
   "execution_count": 7,
   "metadata": {},
   "outputs": [
    {
     "name": "stdout",
     "output_type": "stream",
     "text": [
      "27280\n"
     ]
    },
    {
     "data": {
      "text/plain": [
       "user              0\n",
       "item              0\n",
       "prediction    27242\n",
       "dtype: int64"
      ]
     },
     "execution_count": 7,
     "metadata": {},
     "output_type": "execute_result"
    }
   ],
   "source": [
    "print(len(pred_model_1))\n",
    "pred_model_1.isna().sum()"
   ]
  },
  {
   "cell_type": "markdown",
   "metadata": {},
   "source": [
    "Problem: Apperently there were only a few users inside this window: Choose another one (in this case the second best; Model 2)"
   ]
  },
  {
   "cell_type": "code",
   "execution_count": 9,
   "metadata": {},
   "outputs": [],
   "source": [
    "pred_model_8 = predict_using_model_nr(8)"
   ]
  },
  {
   "cell_type": "code",
   "execution_count": 14,
   "metadata": {},
   "outputs": [
    {
     "name": "stdout",
     "output_type": "stream",
     "text": [
      "27280\n",
      "user              0\n",
      "item              0\n",
      "prediction    27221\n",
      "dtype: int64\n",
      "user          0\n",
      "item          0\n",
      "prediction    0\n",
      "dtype: int64\n"
     ]
    }
   ],
   "source": [
    "# fill nan with mean\n",
    "pred_model_8 = pred_model_8.fillna(load_regression_train()['rating'].mean())\n",
    "\n"
   ]
  }
 ],
 "metadata": {
  "kernelspec": {
   "display_name": "base",
   "language": "python",
   "name": "python3"
  },
  "language_info": {
   "codemirror_mode": {
    "name": "ipython",
    "version": 3
   },
   "file_extension": ".py",
   "mimetype": "text/x-python",
   "name": "python",
   "nbconvert_exporter": "python",
   "pygments_lexer": "ipython3",
   "version": "3.10.13"
  }
 },
 "nbformat": 4,
 "nbformat_minor": 2
}
