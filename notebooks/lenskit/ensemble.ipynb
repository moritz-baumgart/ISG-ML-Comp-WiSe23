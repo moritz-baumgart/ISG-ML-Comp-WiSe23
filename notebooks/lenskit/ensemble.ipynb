{
 "cells": [
  {
   "cell_type": "code",
   "execution_count": 4,
   "metadata": {},
   "outputs": [],
   "source": [
    "from lenskit.algorithms import als\n",
    "from lenskit import batch\n",
    "import joblib\n",
    "import pandas as pd\n",
    "\n",
    "from mlcomp.data.load import load_regression_test\n",
    "\n",
    "results = joblib.load('time_window_result.joblib')\n",
    "\n",
    "df = load_regression_test()\n",
    "\n",
    "predictions = []\n",
    "\n",
    "for res in results:\n",
    "    model: als.BiasedMF = res[2]\n",
    "    pred = batch.predict(model, df)\n",
    "\n",
    "    # lenskit messed up the index but keeps the order, so we can fix it like this:\n",
    "    pred.index = df.index\n",
    "    predictions.append(pred)"
   ]
  },
  {
   "cell_type": "code",
   "execution_count": 9,
   "metadata": {},
   "outputs": [
    {
     "name": "stdout",
     "output_type": "stream",
     "text": [
      "0\n",
      "0\n",
      "2\n",
      "2\n",
      "375\n",
      "4851\n",
      "9468\n",
      "6097\n",
      "505\n"
     ]
    }
   ],
   "source": [
    "for p in predictions:\n",
    "    print(p['prediction'].nunique())"
   ]
  }
 ],
 "metadata": {
  "kernelspec": {
   "display_name": "base",
   "language": "python",
   "name": "python3"
  },
  "language_info": {
   "codemirror_mode": {
    "name": "ipython",
    "version": 3
   },
   "file_extension": ".py",
   "mimetype": "text/x-python",
   "name": "python",
   "nbconvert_exporter": "python",
   "pygments_lexer": "ipython3",
   "version": "3.10.8"
  }
 },
 "nbformat": 4,
 "nbformat_minor": 2
}
