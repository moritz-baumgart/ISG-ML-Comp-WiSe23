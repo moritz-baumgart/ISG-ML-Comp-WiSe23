{
 "cells": [
  {
   "cell_type": "code",
   "execution_count": 1,
   "metadata": {},
   "outputs": [
    {
     "name": "stdout",
     "output_type": "stream",
     "text": [
      "         user   item  prediction\n",
      "0          64      0         NaN\n",
      "1          64   6208         NaN\n",
      "2          67   9644         NaN\n",
      "3          67   4000         NaN\n",
      "4          70  10701         NaN\n",
      "...       ...    ...         ...\n",
      "27275  269041  11014         NaN\n",
      "27276  273135  11070         NaN\n",
      "27277  273135  11071         NaN\n",
      "27278  274519  11083         NaN\n",
      "27279  274519  11084         NaN\n",
      "\n",
      "[27280 rows x 3 columns]\n"
     ]
    }
   ],
   "source": [
    "from lenskit.algorithms import als\n",
    "from lenskit import batch\n",
    "from lenskit.metrics.predict import rmse\n",
    "import joblib\n",
    "import pandas as pd\n",
    "\n",
    "from mlcomp.data.load import load_regression_test\n",
    "\n",
    "df = load_regression_test()\n",
    "\n",
    "model: als.BiasedMF = joblib.load('best_model.joblib')\n",
    "pred = batch.predict(model, df)\n",
    "\n",
    "# lenskit messed up the index but keeps the order, so we can fix it like this:\n",
    "pred.index = df.index\n",
    "\n",
    "print(pred)\n",
    "\n",
    "pred['prediction'].to_csv('pred.csv', index_label='Id')"
   ]
  },
  {
   "cell_type": "code",
   "execution_count": 3,
   "metadata": {},
   "outputs": [
    {
     "data": {
      "text/plain": [
       "user    item   prediction\n",
       "74439   9734   3.917285      1\n",
       "100506  10652  3.790861      1\n",
       "dtype: int64"
      ]
     },
     "execution_count": 3,
     "metadata": {},
     "output_type": "execute_result"
    }
   ],
   "source": [
    "pred.value_counts()"
   ]
  }
 ],
 "metadata": {
  "kernelspec": {
   "display_name": "base",
   "language": "python",
   "name": "python3"
  },
  "language_info": {
   "codemirror_mode": {
    "name": "ipython",
    "version": 3
   },
   "file_extension": ".py",
   "mimetype": "text/x-python",
   "name": "python",
   "nbconvert_exporter": "python",
   "pygments_lexer": "ipython3",
   "version": "3.10.8"
  }
 },
 "nbformat": 4,
 "nbformat_minor": 2
}
