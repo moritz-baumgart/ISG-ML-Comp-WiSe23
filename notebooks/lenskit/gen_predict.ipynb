{
 "cells": [
  {
   "cell_type": "code",
   "execution_count": 20,
   "metadata": {},
   "outputs": [],
   "source": [
    "from lenskit.algorithms import als\n",
    "from lenskit import batch\n",
    "from lenskit.metrics.predict import rmse\n",
    "import joblib\n",
    "import pandas as pd\n",
    "\n",
    "from mlcomp.data.load import load_regression_test, load_regression_train\n"
   ]
  },
  {
   "cell_type": "code",
   "execution_count": 21,
   "metadata": {},
   "outputs": [],
   "source": [
    "df = load_regression_test()\n",
    "\n",
    "model: als.BiasedMF = joblib.load('models/M8-bmf.joblib')\n",
    "\n",
    "pred = batch.predict(model, df)\n",
    "\n",
    "# lenskit messed up the index but keeps the order, so we can fix it like this:\n",
    "pred.index = df.index"
   ]
  },
  {
   "cell_type": "code",
   "execution_count": 22,
   "metadata": {},
   "outputs": [
    {
     "name": "stdout",
     "output_type": "stream",
     "text": [
      "user          0\n",
      "item          0\n",
      "prediction    0\n",
      "dtype: int64\n"
     ]
    }
   ],
   "source": [
    "print(pred.isna().sum()) # we have some nans, lets just fill them with the mean rating\n",
    "pred = pred.fillna(load_regression_train()['rating'].mean())"
   ]
  },
  {
   "cell_type": "code",
   "execution_count": 23,
   "metadata": {},
   "outputs": [],
   "source": [
    "pred = pred.rename(columns={\"prediction\": \"Predicted\"})\n",
    "pred[\"Predicted\"].to_csv(\"pred.csv\", index_label=\"Id\")"
   ]
  },
  {
   "cell_type": "code",
   "execution_count": 24,
   "metadata": {},
   "outputs": [
    {
     "data": {
      "text/plain": [
       "user    item   Predicted\n",
       "64      0      5.110427     1\n",
       "57831   9888   3.459093     1\n",
       "57830   10557  3.331498     1\n",
       "        4274   3.665242     1\n",
       "57829   9261   4.918300     1\n",
       "                           ..\n",
       "21461   9438   3.963847     1\n",
       "21456   10243  3.903545     1\n",
       "        9526   3.365145     1\n",
       "21453   4767   4.168026     1\n",
       "274519  11084  3.978877     1\n",
       "Name: count, Length: 27280, dtype: int64"
      ]
     },
     "execution_count": 24,
     "metadata": {},
     "output_type": "execute_result"
    }
   ],
   "source": [
    "pred.value_counts()"
   ]
  }
 ],
 "metadata": {
  "kernelspec": {
   "display_name": "base",
   "language": "python",
   "name": "python3"
  },
  "language_info": {
   "codemirror_mode": {
    "name": "ipython",
    "version": 3
   },
   "file_extension": ".py",
   "mimetype": "text/x-python",
   "name": "python",
   "nbconvert_exporter": "python",
   "pygments_lexer": "ipython3",
   "version": "3.10.13"
  }
 },
 "nbformat": 4,
 "nbformat_minor": 2
}
