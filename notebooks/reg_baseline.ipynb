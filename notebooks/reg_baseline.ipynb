{
 "cells": [
  {
   "cell_type": "markdown",
   "metadata": {},
   "source": [
    "#### `reg_baseline.ipynb`\n",
    "\n",
    "This file creates a bit of a baseline for the regression task.\n",
    "It just always predicts the mean/median rating. At the bottom you can see how that performed in kaggle."
   ]
  },
  {
   "cell_type": "code",
   "execution_count": 3,
   "metadata": {},
   "outputs": [],
   "source": [
    "from mlcomp.data.load import load_regression_train, load_regression_test\n",
    "import pandas as pd"
   ]
  },
  {
   "cell_type": "code",
   "execution_count": 4,
   "metadata": {},
   "outputs": [],
   "source": [
    "train = load_regression_train()\n",
    "mean_rating = train[\"rating\"].mean()\n",
    "median_rating = train[\"rating\"].median()\n",
    "\n",
    "test = load_regression_test()\n",
    "\n",
    "pred = pd.DataFrame([median_rating for _ in range(len(test))], columns=[\"Predicted\"])\n",
    "\n",
    "pred.to_csv('pred.csv', index_label='Id')"
   ]
  },
  {
   "cell_type": "markdown",
   "metadata": {},
   "source": [
    "Kaggle Scores:\n",
    "\n",
    "- Mean:   1.0321\n",
    "- Median: 1.20877"
   ]
  }
 ],
 "metadata": {
  "kernelspec": {
   "display_name": "base",
   "language": "python",
   "name": "python3"
  },
  "language_info": {
   "codemirror_mode": {
    "name": "ipython",
    "version": 3
   },
   "file_extension": ".py",
   "mimetype": "text/x-python",
   "name": "python",
   "nbconvert_exporter": "python",
   "pygments_lexer": "ipython3",
   "version": "3.10.13"
  }
 },
 "nbformat": 4,
 "nbformat_minor": 2
}
