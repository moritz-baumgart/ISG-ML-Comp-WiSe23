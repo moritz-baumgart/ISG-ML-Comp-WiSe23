{
 "cells": [
  {
   "cell_type": "code",
   "execution_count": 5,
   "metadata": {},
   "outputs": [],
   "source": [
    "from sklearn.ensemble import ExtraTreesClassifier, HistGradientBoostingClassifier\n",
    "from xgboost import XGBClassifier\n",
    "from sklearn.model_selection import train_test_split\n",
    "from sklearn.inspection import permutation_importance\n",
    "from sklearn.preprocessing import StandardScaler\n",
    "import pandas as pd\n",
    "from mlcomp.data.load import load_classification_train\n",
    "from mlcomp.data.preprocess import drop_ft2, remove_outliers"
   ]
  },
  {
   "cell_type": "code",
   "execution_count": 6,
   "metadata": {},
   "outputs": [],
   "source": [
    "algos = [\n",
    "    ExtraTreesClassifier,\n",
    "    HistGradientBoostingClassifier,\n",
    "    XGBClassifier,\n",
    "]\n",
    "\n",
    "df = load_classification_train()\n",
    "df = drop_ft2(df)\n",
    "df = remove_outliers(df, random_state=42)\n",
    "\n",
    "X = df.drop(columns='label')\n",
    "X = StandardScaler().fit_transform(X)\n",
    "y = df['label']\n",
    "\n",
    "X_train, X_test, y_train, y_test = train_test_split(X, y, test_size=0.2, random_state=42)"
   ]
  },
  {
   "cell_type": "code",
   "execution_count": 7,
   "metadata": {},
   "outputs": [
    {
     "name": "stdout",
     "output_type": "stream",
     "text": [
      "Fitting ExtraTreesClassifier...\n",
      "Fitting HistGradientBoostingClassifier...\n",
      "Fitting XGBClassifier...\n"
     ]
    },
    {
     "name": "stderr",
     "output_type": "stream",
     "text": [
      "c:\\Users\\baumg\\miniconda3\\Lib\\site-packages\\xgboost\\data.py:440: FutureWarning: is_sparse is deprecated and will be removed in a future version. Check `isinstance(dtype, pd.SparseDtype)` instead.\n",
      "  if is_sparse(data):\n"
     ]
    }
   ],
   "source": [
    "results = pd.DataFrame(columns=[\"model_name\", \"perm_imp_result\", \"model\"])\n",
    "\n",
    "for index, alg in enumerate(algos):\n",
    "    model = alg()\n",
    "    model_name = model.__class__.__name__\n",
    "\n",
    "    print(f\"Fitting {model_name}...\")\n",
    "\n",
    "    model.fit(X_train, y_train)\n",
    "\n",
    "    p_res = permutation_importance(model, X_test, y_test, n_repeats=5, random_state=42, scoring='f1_macro')\n",
    "\n",
    "    results.loc[index] = [model_name, p_res, model]"
   ]
  },
  {
   "cell_type": "code",
   "execution_count": 8,
   "metadata": {},
   "outputs": [
    {
     "name": "stdout",
     "output_type": "stream",
     "text": [
      "Features to drop for ExtraTreesClassifier\n",
      "['feature_0', 'feature_7', 'feature_20', 'feature_22', 'feature_28']\n",
      "Features to drop for HistGradientBoostingClassifier\n",
      "['feature_7', 'feature_10', 'feature_29']\n",
      "Features to drop for XGBClassifier\n",
      "['feature_2', 'feature_4', 'feature_5', 'feature_6', 'feature_7', 'feature_8', 'feature_12', 'feature_14', 'feature_16', 'feature_20', 'feature_22', 'feature_24', 'feature_26', 'feature_27', 'feature_29']\n"
     ]
    }
   ],
   "source": [
    "for _, row in results.iterrows():\n",
    "    res = row['perm_imp_result']\n",
    "    print(f\"Features to drop for {row['model_name']}\")\n",
    "    features = []\n",
    "    for ft_nr, mean in enumerate(res.importances_mean):\n",
    "        if mean < 0:\n",
    "            features.append(f'feature_{ft_nr}')\n",
    "    print(features)"
   ]
  }
 ],
 "metadata": {
  "kernelspec": {
   "display_name": "base",
   "language": "python",
   "name": "python3"
  },
  "language_info": {
   "codemirror_mode": {
    "name": "ipython",
    "version": 3
   },
   "file_extension": ".py",
   "mimetype": "text/x-python",
   "name": "python",
   "nbconvert_exporter": "python",
   "pygments_lexer": "ipython3",
   "version": "3.10.13"
  }
 },
 "nbformat": 4,
 "nbformat_minor": 2
}
