{
 "cells": [
  {
   "cell_type": "code",
   "execution_count": 4,
   "metadata": {},
   "outputs": [
    {
     "data": {
      "text/plain": [
       "{'fit_time': array([0.20500398, 0.20543838, 0.19321704, 0.1735785 , 0.16503048,\n",
       "        0.18182254, 0.17798996, 0.16299105, 0.1816256 , 0.18301272]),\n",
       " 'score_time': array([0.01298904, 0.01399803, 0.01299095, 0.01201725, 0.01200747,\n",
       "        0.01202035, 0.01202798, 0.01199913, 0.0129962 , 0.01199818]),\n",
       " 'test_score': array([1., 1., 1., 1., 1., 1., 1., 1., 1., 1.])}"
      ]
     },
     "execution_count": 4,
     "metadata": {},
     "output_type": "execute_result"
    }
   ],
   "source": [
    "import joblib\n",
    "\n",
    "df = joblib.load('sel_res_rm2_iso_f_rm_outlier_stdscale.joblib')\n",
    "\n",
    "df['cv_result'][0]"
   ]
  }
 ],
 "metadata": {
  "kernelspec": {
   "display_name": "base",
   "language": "python",
   "name": "python3"
  },
  "language_info": {
   "codemirror_mode": {
    "name": "ipython",
    "version": 3
   },
   "file_extension": ".py",
   "mimetype": "text/x-python",
   "name": "python",
   "nbconvert_exporter": "python",
   "pygments_lexer": "ipython3",
   "version": "3.11.5"
  }
 },
 "nbformat": 4,
 "nbformat_minor": 2
}
