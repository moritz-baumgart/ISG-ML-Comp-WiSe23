{
 "cells": [
  {
   "cell_type": "code",
   "execution_count": 15,
   "metadata": {},
   "outputs": [],
   "source": [
    "from sklearn.ensemble import (\n",
    "    AdaBoostClassifier,\n",
    "    BaggingClassifier,\n",
    "    ExtraTreesClassifier,\n",
    "    GradientBoostingClassifier,\n",
    "    RandomForestClassifier,\n",
    "    HistGradientBoostingClassifier,\n",
    ")\n",
    "from sklearn.model_selection import cross_validate\n",
    "from sklearn.preprocessing import StandardScaler\n",
    "from xgboost import XGBClassifier, XGBRFClassifier\n",
    "from mlcomp.data.load import load_classification_train, load_classification_test\n",
    "from mlcomp.data.preprocess import remove_outliers, drop_ft2, HandlingMethod\n",
    "import pandas as pd\n",
    "import matplotlib.pyplot as plt\n",
    "import numpy as np\n",
    "import joblib\n",
    "\n"
   ]
  },
  {
   "cell_type": "code",
   "execution_count": 16,
   "metadata": {},
   "outputs": [
    {
     "name": "stderr",
     "output_type": "stream",
     "text": [
      "c:\\Users\\baumg\\miniconda3\\lib\\site-packages\\mlcomp\\data\\preprocess.py:39: SettingWithCopyWarning: \n",
      "A value is trying to be set on a copy of a slice from a DataFrame\n",
      "\n",
      "See the caveats in the documentation: https://pandas.pydata.org/pandas-docs/stable/user_guide/indexing.html#returning-a-view-versus-a-copy\n",
      "  df_result[c].loc[mask == -1] = clipped\n"
     ]
    }
   ],
   "source": [
    "\n",
    "algos = [\n",
    "    #AdaBoostClassifier,\n",
    "    #BaggingClassifier,\n",
    "    ExtraTreesClassifier,\n",
    "    #GradientBoostingClassifier,\n",
    "    #RandomForestClassifier,\n",
    "    HistGradientBoostingClassifier,\n",
    "    XGBClassifier,\n",
    "    #XGBRFClassifier,\n",
    "]\n",
    "\n",
    "\n",
    "\n",
    "#X, y = load_classification_train(X_y_split=True)\n",
    "\n",
    "df = load_classification_train()\n",
    "df = drop_ft2(df)\n",
    "df = remove_outliers(df, handling_method=HandlingMethod.CAP_AT_MIN_MAX, random_state=42)\n",
    "\n",
    "X = df.drop(columns='label')\n",
    "\n",
    "to_drop = {\n",
    "    'ExtraTreesClassifier': ['feature_13', 'feature_14', 'feature_20', 'feature_21', 'feature_27'],\n",
    "    'HistGradientBoostingClassifier': ['feature_3', 'feature_4', 'feature_22'],\n",
    "    'XGBClassifier': ['feature_4', 'feature_16']\n",
    "}\n",
    "\n",
    "X = pd.DataFrame(StandardScaler().fit_transform(X), columns=X.columns)\n",
    "\n",
    "y = df['label']"
   ]
  },
  {
   "cell_type": "code",
   "execution_count": 17,
   "metadata": {},
   "outputs": [
    {
     "name": "stdout",
     "output_type": "stream",
     "text": [
      "Fitting ExtraTreesClassifier...\n",
      "Fitting HistGradientBoostingClassifier...\n",
      "Fitting XGBClassifier...\n"
     ]
    }
   ],
   "source": [
    "results = pd.DataFrame(columns=[\"model_name\", \"cv_result\", \"model\"])\n",
    "\n",
    "for index, alg in enumerate(algos):\n",
    "    model = alg()\n",
    "    model_name = model.__class__.__name__\n",
    "\n",
    "    print(f\"Fitting {model_name}...\")\n",
    "\n",
    "    X_dropped = X.drop(columns=to_drop[model_name])\n",
    "\n",
    "    cv_res = cross_validate(model, X_dropped, y, cv=10, scoring=\"f1_macro\")\n",
    "\n",
    "    results.loc[index] = [model_name, cv_res, model]"
   ]
  },
  {
   "cell_type": "code",
   "execution_count": 18,
   "metadata": {},
   "outputs": [
    {
     "data": {
      "text/html": [
       "<div>\n",
       "<style scoped>\n",
       "    .dataframe tbody tr th:only-of-type {\n",
       "        vertical-align: middle;\n",
       "    }\n",
       "\n",
       "    .dataframe tbody tr th {\n",
       "        vertical-align: top;\n",
       "    }\n",
       "\n",
       "    .dataframe thead th {\n",
       "        text-align: right;\n",
       "    }\n",
       "</style>\n",
       "<table border=\"1\" class=\"dataframe\">\n",
       "  <thead>\n",
       "    <tr style=\"text-align: right;\">\n",
       "      <th></th>\n",
       "      <th>model_name</th>\n",
       "      <th>cv_result</th>\n",
       "      <th>model</th>\n",
       "      <th>cv_mean</th>\n",
       "    </tr>\n",
       "  </thead>\n",
       "  <tbody>\n",
       "    <tr>\n",
       "      <th>0</th>\n",
       "      <td>ExtraTreesClassifier</td>\n",
       "      <td>{'fit_time': [0.25825953483581543, 0.211428403...</td>\n",
       "      <td>ExtraTreesClassifier()</td>\n",
       "      <td>0.784580</td>\n",
       "    </tr>\n",
       "    <tr>\n",
       "      <th>1</th>\n",
       "      <td>HistGradientBoostingClassifier</td>\n",
       "      <td>{'fit_time': [0.8815658092498779, 0.7138648033...</td>\n",
       "      <td>HistGradientBoostingClassifier()</td>\n",
       "      <td>0.802356</td>\n",
       "    </tr>\n",
       "    <tr>\n",
       "      <th>2</th>\n",
       "      <td>XGBClassifier</td>\n",
       "      <td>{'fit_time': [0.08782744407653809, 0.090018987...</td>\n",
       "      <td>XGBClassifier(base_score=None, booster=None, c...</td>\n",
       "      <td>0.777812</td>\n",
       "    </tr>\n",
       "  </tbody>\n",
       "</table>\n",
       "</div>"
      ],
      "text/plain": [
       "                       model_name  \\\n",
       "0            ExtraTreesClassifier   \n",
       "1  HistGradientBoostingClassifier   \n",
       "2                   XGBClassifier   \n",
       "\n",
       "                                           cv_result  \\\n",
       "0  {'fit_time': [0.25825953483581543, 0.211428403...   \n",
       "1  {'fit_time': [0.8815658092498779, 0.7138648033...   \n",
       "2  {'fit_time': [0.08782744407653809, 0.090018987...   \n",
       "\n",
       "                                               model   cv_mean  \n",
       "0                             ExtraTreesClassifier()  0.784580  \n",
       "1                   HistGradientBoostingClassifier()  0.802356  \n",
       "2  XGBClassifier(base_score=None, booster=None, c...  0.777812  "
      ]
     },
     "execution_count": 18,
     "metadata": {},
     "output_type": "execute_result"
    }
   ],
   "source": [
    "results['cv_mean'] = results['cv_result'].map(lambda x: x['test_score'].mean())\n",
    "\n",
    "res_sort = results.sort_values('cv_mean', ascending=False)\n",
    "results\n"
   ]
  },
  {
   "cell_type": "markdown",
   "metadata": {},
   "source": [
    "Reihenfolge: ExtraTreesClassifier, HistGradientBoostingClassifier, XGBClassifier\n",
    "\n",
    "#### Nix:\n",
    "0.784693\n",
    "0.791845\n",
    "0.795470\n",
    "\n",
    "#### ft2 entfernt:\n",
    "0.786814\n",
    "0.791845\n",
    "0.795470\n",
    "\n",
    "#### + iso f outlier removal:\n",
    "0.763181\n",
    "0.792710\n",
    "0.782105\n",
    "\n",
    "#### + scale:\n",
    "0.770054\n",
    "0.792710\n",
    "0.781328\n",
    "\n",
    "#### + anhand to_drop features entfernt:\n",
    "0.761900\n",
    "0.788001\n",
    "0.760194\n",
    "\n",
    "#### ft2, iso f outlier cap at min max, scale:\n",
    "0.777968\n",
    "0.788468\n",
    "0.789704\n",
    "\n",
    "#### + anhand to_drop ft entfernt:\n",
    "0.784580\n",
    "0.802356\n",
    "0.777812"
   ]
  },
  {
   "cell_type": "code",
   "execution_count": 19,
   "metadata": {},
   "outputs": [],
   "source": [
    "\n",
    "#joblib.dump(results, 'sel_res_rm2_iso_f_rm_outlier_stdscale_perm_imp.joblib')\n",
    "#joblib.dump(to_drop, 'to_drop_for_the_res.joblib')"
   ]
  },
  {
   "cell_type": "code",
   "execution_count": 20,
   "metadata": {},
   "outputs": [
    {
     "data": {
      "image/png": "[encoded data removed]",
      "text/plain": [
       "<Figure size 640x480 with 1 Axes>"
      ]
     },
     "metadata": {},
     "output_type": "display_data"
    }
   ],
   "source": [
    "plt.barh(res_sort['model_name'], res_sort['cv_mean'])\n",
    "plt.xlabel('cv mean score (f1 macro)')\n",
    "plt.ylabel('algorithm')\n",
    "plt.show()\n"
   ]
  },
  {
   "cell_type": "code",
   "execution_count": 21,
   "metadata": {},
   "outputs": [
    {
     "data": {
      "text/html": [
       "<div>\n",
       "<style scoped>\n",
       "    .dataframe tbody tr th:only-of-type {\n",
       "        vertical-align: middle;\n",
       "    }\n",
       "\n",
       "    .dataframe tbody tr th {\n",
       "        vertical-align: top;\n",
       "    }\n",
       "\n",
       "    .dataframe thead th {\n",
       "        text-align: right;\n",
       "    }\n",
       "</style>\n",
       "<table border=\"1\" class=\"dataframe\">\n",
       "  <thead>\n",
       "    <tr style=\"text-align: right;\">\n",
       "      <th></th>\n",
       "      <th>model_name</th>\n",
       "      <th>cv_result</th>\n",
       "      <th>model</th>\n",
       "      <th>cv_mean</th>\n",
       "    </tr>\n",
       "  </thead>\n",
       "  <tbody>\n",
       "    <tr>\n",
       "      <th>0</th>\n",
       "      <td>ExtraTreesClassifier</td>\n",
       "      <td>{'fit_time': [0.25825953483581543, 0.211428403...</td>\n",
       "      <td>ExtraTreesClassifier()</td>\n",
       "      <td>0.784580</td>\n",
       "    </tr>\n",
       "    <tr>\n",
       "      <th>1</th>\n",
       "      <td>HistGradientBoostingClassifier</td>\n",
       "      <td>{'fit_time': [0.8815658092498779, 0.7138648033...</td>\n",
       "      <td>HistGradientBoostingClassifier()</td>\n",
       "      <td>0.802356</td>\n",
       "    </tr>\n",
       "    <tr>\n",
       "      <th>2</th>\n",
       "      <td>XGBClassifier</td>\n",
       "      <td>{'fit_time': [0.08782744407653809, 0.090018987...</td>\n",
       "      <td>XGBClassifier(base_score=None, booster=None, c...</td>\n",
       "      <td>0.777812</td>\n",
       "    </tr>\n",
       "  </tbody>\n",
       "</table>\n",
       "</div>"
      ],
      "text/plain": [
       "                       model_name  \\\n",
       "0            ExtraTreesClassifier   \n",
       "1  HistGradientBoostingClassifier   \n",
       "2                   XGBClassifier   \n",
       "\n",
       "                                           cv_result  \\\n",
       "0  {'fit_time': [0.25825953483581543, 0.211428403...   \n",
       "1  {'fit_time': [0.8815658092498779, 0.7138648033...   \n",
       "2  {'fit_time': [0.08782744407653809, 0.090018987...   \n",
       "\n",
       "                                               model   cv_mean  \n",
       "0                             ExtraTreesClassifier()  0.784580  \n",
       "1                   HistGradientBoostingClassifier()  0.802356  \n",
       "2  XGBClassifier(base_score=None, booster=None, c...  0.777812  "
      ]
     },
     "execution_count": 21,
     "metadata": {},
     "output_type": "execute_result"
    }
   ],
   "source": [
    "results"
   ]
  }
 ],
 "metadata": {
  "kernelspec": {
   "display_name": "base",
   "language": "python",
   "name": "python3"
  },
  "language_info": {
   "codemirror_mode": {
    "name": "ipython",
    "version": 3
   },
   "file_extension": ".py",
   "mimetype": "text/x-python",
   "name": "python",
   "nbconvert_exporter": "python",
   "pygments_lexer": "ipython3",
   "version": "3.10.13"
  }
 },
 "nbformat": 4,
 "nbformat_minor": 2
}
